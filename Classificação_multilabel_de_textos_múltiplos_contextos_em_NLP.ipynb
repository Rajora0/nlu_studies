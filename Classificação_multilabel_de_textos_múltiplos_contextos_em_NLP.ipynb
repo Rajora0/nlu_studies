{
  "cells": [
    {
      "cell_type": "markdown",
      "metadata": {
        "id": "view-in-github",
        "colab_type": "text"
      },
      "source": [
        "<a href=\"https://colab.research.google.com/github/Rajora0/nlp_studies/blob/main/Classifica%C3%A7%C3%A3o_multilabel_de_textos_m%C3%BAltiplos_contextos_em_NLP.ipynb\" target=\"_parent\"><img src=\"https://colab.research.google.com/assets/colab-badge.svg\" alt=\"Open In Colab\"/></a>"
      ]
    },
    {
      "cell_type": "markdown",
      "metadata": {
        "id": "pZWS2FBJcz6W"
      },
      "source": [
        "# Classificação multilabel de textos: múltiplos contextos em NLP"
      ]
    },
    {
      "cell_type": "code",
      "source": [
        "!pip install scikit-learn==0.24.1 -qq\n",
        "!pip install scikit-multilearn==0.2.0 -qq"
      ],
      "metadata": {
        "colab": {
          "base_uri": "https://localhost:8080/"
        },
        "id": "dnWknwI5QL7A",
        "outputId": "0a0d3c2f-99d5-4cf4-fb69-d07044b09c8b"
      },
      "execution_count": null,
      "outputs": [
        {
          "output_type": "stream",
          "name": "stdout",
          "text": [
            "\u001b[31mERROR: pip's dependency resolver does not currently take into account all the packages that are installed. This behaviour is the source of the following dependency conflicts.\n",
            "yellowbrick 1.4 requires scikit-learn>=1.0.0, but you have scikit-learn 0.24.1 which is incompatible.\u001b[0m\n"
          ]
        }
      ]
    },
    {
      "cell_type": "markdown",
      "metadata": {
        "id": "XatJ07AUdHkt"
      },
      "source": [
        "## Montar Drive"
      ]
    },
    {
      "cell_type": "code",
      "execution_count": null,
      "metadata": {
        "colab": {
          "base_uri": "https://localhost:8080/"
        },
        "id": "VbVRYw_FcN8p",
        "outputId": "ab8ae98d-7ce8-4646-c79e-0b527b19a42e"
      },
      "outputs": [
        {
          "output_type": "stream",
          "name": "stdout",
          "text": [
            "Drive already mounted at /gdrive/; to attempt to forcibly remount, call drive.mount(\"/gdrive/\", force_remount=True).\n",
            "archive.zip\t     imdb-reviews-pt-br.csv\t stackoverflow_perguntas.csv\n",
            "corretor-master      stackoverflow_espanhol.csv  stackoverflow_portugues.csv\n",
            "corretor-master.zip  stackoverflow_ingles.csv\t word2vec\n"
          ]
        }
      ],
      "source": [
        "from google.colab import drive\n",
        "drive.mount('/gdrive/')\n",
        "\n",
        "!ls '/gdrive/MyDrive/NLP_ESTUDOS/Dados/'"
      ]
    },
    {
      "cell_type": "markdown",
      "source": [
        "## ETL"
      ],
      "metadata": {
        "id": "mtV2r45xQk1_"
      }
    },
    {
      "cell_type": "code",
      "source": [
        "#!wget https://raw.githubusercontent.com/alura-cursos/alura_classificacao_multilabel/master/dataset/stackoverflow_perguntas.csv -O /gdrive/MyDrive/NLP_ESTUDOS/Dados/stackoverflow_perguntas.csv"
      ],
      "metadata": {
        "id": "KRiTnKZ9QkSU"
      },
      "execution_count": null,
      "outputs": []
    },
    {
      "cell_type": "markdown",
      "metadata": {
        "id": "0MLeQTLsxtue"
      },
      "source": [
        "## Carregando os dados"
      ]
    },
    {
      "cell_type": "code",
      "execution_count": null,
      "metadata": {
        "id": "3EegtW3yxxsG"
      },
      "outputs": [],
      "source": [
        "import numpy as np\n",
        "import pandas as pd\n",
        "\n",
        "# import spacy\n",
        "# import warnings\n",
        "# warnings.filterwarnings(\"ignore\")"
      ]
    },
    {
      "cell_type": "code",
      "execution_count": null,
      "metadata": {
        "id": "kA3Lm6-Nx9-g"
      },
      "outputs": [],
      "source": [
        "path = '/gdrive/MyDrive/NLP_ESTUDOS/Dados/'"
      ]
    },
    {
      "cell_type": "code",
      "source": [
        "perguntas = pd.read_csv(path+'stackoverflow_perguntas.csv')\n",
        "perguntas.sample(n=10)"
      ],
      "metadata": {
        "colab": {
          "base_uri": "https://localhost:8080/",
          "height": 363
        },
        "id": "Lq9cmoNJRFh7",
        "outputId": "f903f5ee-690f-486a-a8a9-5c26fd880382"
      },
      "execution_count": null,
      "outputs": [
        {
          "output_type": "execute_result",
          "data": {
            "text/plain": [
              "                                              Perguntas                  Tags\n",
              "3589  Tenho um motor de busca simples que faz a busc...                  html\n",
              "915   Este código remove todas as divs menos selecio...          jquery html \n",
              "2872  Preciso fazer o processamento assíncrono de sé...               angular\n",
              "3917  Estou utilizando o código abaixo para pré visu...                  html\n",
              "1764  Meu código é esse:  CODE   Gostaria de saber s...               jquery \n",
              "4157  Estou interessado nos sistemas de live ex, fac...  html angular node.js\n",
              "4874  Eu tento criar um teste com várias perguntas e...               angular\n",
              "228   Segue o que fiz inicialmente:  CODE   ...  COD...              node.js \n",
              "5051  Utilizo um service para fazer com que cada rot...               angular\n",
              "3430  Gostaria de enviar os valores do checkbox, som...                  html"
            ],
            "text/html": [
              "\n",
              "  <div id=\"df-8d52ace5-4aa7-4bfb-897a-ec6eecb2706f\">\n",
              "    <div class=\"colab-df-container\">\n",
              "      <div>\n",
              "<style scoped>\n",
              "    .dataframe tbody tr th:only-of-type {\n",
              "        vertical-align: middle;\n",
              "    }\n",
              "\n",
              "    .dataframe tbody tr th {\n",
              "        vertical-align: top;\n",
              "    }\n",
              "\n",
              "    .dataframe thead th {\n",
              "        text-align: right;\n",
              "    }\n",
              "</style>\n",
              "<table border=\"1\" class=\"dataframe\">\n",
              "  <thead>\n",
              "    <tr style=\"text-align: right;\">\n",
              "      <th></th>\n",
              "      <th>Perguntas</th>\n",
              "      <th>Tags</th>\n",
              "    </tr>\n",
              "  </thead>\n",
              "  <tbody>\n",
              "    <tr>\n",
              "      <th>3589</th>\n",
              "      <td>Tenho um motor de busca simples que faz a busc...</td>\n",
              "      <td>html</td>\n",
              "    </tr>\n",
              "    <tr>\n",
              "      <th>915</th>\n",
              "      <td>Este código remove todas as divs menos selecio...</td>\n",
              "      <td>jquery html</td>\n",
              "    </tr>\n",
              "    <tr>\n",
              "      <th>2872</th>\n",
              "      <td>Preciso fazer o processamento assíncrono de sé...</td>\n",
              "      <td>angular</td>\n",
              "    </tr>\n",
              "    <tr>\n",
              "      <th>3917</th>\n",
              "      <td>Estou utilizando o código abaixo para pré visu...</td>\n",
              "      <td>html</td>\n",
              "    </tr>\n",
              "    <tr>\n",
              "      <th>1764</th>\n",
              "      <td>Meu código é esse:  CODE   Gostaria de saber s...</td>\n",
              "      <td>jquery</td>\n",
              "    </tr>\n",
              "    <tr>\n",
              "      <th>4157</th>\n",
              "      <td>Estou interessado nos sistemas de live ex, fac...</td>\n",
              "      <td>html angular node.js</td>\n",
              "    </tr>\n",
              "    <tr>\n",
              "      <th>4874</th>\n",
              "      <td>Eu tento criar um teste com várias perguntas e...</td>\n",
              "      <td>angular</td>\n",
              "    </tr>\n",
              "    <tr>\n",
              "      <th>228</th>\n",
              "      <td>Segue o que fiz inicialmente:  CODE   ...  COD...</td>\n",
              "      <td>node.js</td>\n",
              "    </tr>\n",
              "    <tr>\n",
              "      <th>5051</th>\n",
              "      <td>Utilizo um service para fazer com que cada rot...</td>\n",
              "      <td>angular</td>\n",
              "    </tr>\n",
              "    <tr>\n",
              "      <th>3430</th>\n",
              "      <td>Gostaria de enviar os valores do checkbox, som...</td>\n",
              "      <td>html</td>\n",
              "    </tr>\n",
              "  </tbody>\n",
              "</table>\n",
              "</div>\n",
              "      <button class=\"colab-df-convert\" onclick=\"convertToInteractive('df-8d52ace5-4aa7-4bfb-897a-ec6eecb2706f')\"\n",
              "              title=\"Convert this dataframe to an interactive table.\"\n",
              "              style=\"display:none;\">\n",
              "        \n",
              "  <svg xmlns=\"http://www.w3.org/2000/svg\" height=\"24px\"viewBox=\"0 0 24 24\"\n",
              "       width=\"24px\">\n",
              "    <path d=\"M0 0h24v24H0V0z\" fill=\"none\"/>\n",
              "    <path d=\"M18.56 5.44l.94 2.06.94-2.06 2.06-.94-2.06-.94-.94-2.06-.94 2.06-2.06.94zm-11 1L8.5 8.5l.94-2.06 2.06-.94-2.06-.94L8.5 2.5l-.94 2.06-2.06.94zm10 10l.94 2.06.94-2.06 2.06-.94-2.06-.94-.94-2.06-.94 2.06-2.06.94z\"/><path d=\"M17.41 7.96l-1.37-1.37c-.4-.4-.92-.59-1.43-.59-.52 0-1.04.2-1.43.59L10.3 9.45l-7.72 7.72c-.78.78-.78 2.05 0 2.83L4 21.41c.39.39.9.59 1.41.59.51 0 1.02-.2 1.41-.59l7.78-7.78 2.81-2.81c.8-.78.8-2.07 0-2.86zM5.41 20L4 18.59l7.72-7.72 1.47 1.35L5.41 20z\"/>\n",
              "  </svg>\n",
              "      </button>\n",
              "      \n",
              "  <style>\n",
              "    .colab-df-container {\n",
              "      display:flex;\n",
              "      flex-wrap:wrap;\n",
              "      gap: 12px;\n",
              "    }\n",
              "\n",
              "    .colab-df-convert {\n",
              "      background-color: #E8F0FE;\n",
              "      border: none;\n",
              "      border-radius: 50%;\n",
              "      cursor: pointer;\n",
              "      display: none;\n",
              "      fill: #1967D2;\n",
              "      height: 32px;\n",
              "      padding: 0 0 0 0;\n",
              "      width: 32px;\n",
              "    }\n",
              "\n",
              "    .colab-df-convert:hover {\n",
              "      background-color: #E2EBFA;\n",
              "      box-shadow: 0px 1px 2px rgba(60, 64, 67, 0.3), 0px 1px 3px 1px rgba(60, 64, 67, 0.15);\n",
              "      fill: #174EA6;\n",
              "    }\n",
              "\n",
              "    [theme=dark] .colab-df-convert {\n",
              "      background-color: #3B4455;\n",
              "      fill: #D2E3FC;\n",
              "    }\n",
              "\n",
              "    [theme=dark] .colab-df-convert:hover {\n",
              "      background-color: #434B5C;\n",
              "      box-shadow: 0px 1px 3px 1px rgba(0, 0, 0, 0.15);\n",
              "      filter: drop-shadow(0px 1px 2px rgba(0, 0, 0, 0.3));\n",
              "      fill: #FFFFFF;\n",
              "    }\n",
              "  </style>\n",
              "\n",
              "      <script>\n",
              "        const buttonEl =\n",
              "          document.querySelector('#df-8d52ace5-4aa7-4bfb-897a-ec6eecb2706f button.colab-df-convert');\n",
              "        buttonEl.style.display =\n",
              "          google.colab.kernel.accessAllowed ? 'block' : 'none';\n",
              "\n",
              "        async function convertToInteractive(key) {\n",
              "          const element = document.querySelector('#df-8d52ace5-4aa7-4bfb-897a-ec6eecb2706f');\n",
              "          const dataTable =\n",
              "            await google.colab.kernel.invokeFunction('convertToInteractive',\n",
              "                                                     [key], {});\n",
              "          if (!dataTable) return;\n",
              "\n",
              "          const docLinkHtml = 'Like what you see? Visit the ' +\n",
              "            '<a target=\"_blank\" href=https://colab.research.google.com/notebooks/data_table.ipynb>data table notebook</a>'\n",
              "            + ' to learn more about interactive tables.';\n",
              "          element.innerHTML = '';\n",
              "          dataTable['output_type'] = 'display_data';\n",
              "          await google.colab.output.renderOutput(dataTable, element);\n",
              "          const docLink = document.createElement('div');\n",
              "          docLink.innerHTML = docLinkHtml;\n",
              "          element.appendChild(docLink);\n",
              "        }\n",
              "      </script>\n",
              "    </div>\n",
              "  </div>\n",
              "  "
            ]
          },
          "metadata": {},
          "execution_count": 51
        }
      ]
    },
    {
      "cell_type": "code",
      "source": [
        "perguntas.Perguntas.shape[0]"
      ],
      "metadata": {
        "colab": {
          "base_uri": "https://localhost:8080/"
        },
        "id": "2uifbL-gbMXM",
        "outputId": "fbe186cd-8b69-4fec-9cc7-ffeec53135cd"
      },
      "execution_count": null,
      "outputs": [
        {
          "output_type": "execute_result",
          "data": {
            "text/plain": [
              "5408"
            ]
          },
          "metadata": {},
          "execution_count": 52
        }
      ]
    },
    {
      "cell_type": "code",
      "source": [
        "perguntas.Tags.nunique()"
      ],
      "metadata": {
        "colab": {
          "base_uri": "https://localhost:8080/"
        },
        "id": "YX0TSV0HbH_S",
        "outputId": "e9234892-80b2-43a1-ac68-7467dccaea90"
      },
      "execution_count": null,
      "outputs": [
        {
          "output_type": "execute_result",
          "data": {
            "text/plain": [
              "37"
            ]
          },
          "metadata": {},
          "execution_count": 53
        }
      ]
    },
    {
      "cell_type": "code",
      "source": [
        "perguntas.Tags.unique()"
      ],
      "metadata": {
        "colab": {
          "base_uri": "https://localhost:8080/"
        },
        "id": "r8uVLW0BbaR-",
        "outputId": "5b77fb0e-c3dd-42e9-960c-5745af646c71"
      },
      "execution_count": null,
      "outputs": [
        {
          "output_type": "execute_result",
          "data": {
            "text/plain": [
              "array(['node.js', 'jquery', 'html', 'html angular ', 'html ', 'angular',\n",
              "       'angular ', 'jquery html  ', 'jquery ', 'jquery html',\n",
              "       'jquery html ', 'html angular', 'angular node.js ', 'html  ',\n",
              "       'jquery html angular', 'node.js ', 'html jquery', 'html jquery ',\n",
              "       'jquery angular  ', 'html node.js', 'jquery  ', 'angular node.js',\n",
              "       'jquery angular', 'html node.js ', 'jquery node.js ', 'angular  ',\n",
              "       'jquery angular ', 'jquery html angular ', 'node.js html ',\n",
              "       ' node.js', 'node.js html', 'html angular  ', 'jquery node.js',\n",
              "       'angular html', 'html angular  node.js', 'jquery html node.js',\n",
              "       'html angular node.js'], dtype=object)"
            ]
          },
          "metadata": {},
          "execution_count": 54
        }
      ]
    },
    {
      "cell_type": "code",
      "source": [
        "lista_de_tags = list()\n",
        "\n",
        "for tags in perguntas.Tags.unique():\n",
        "  for tag in tags.split():\n",
        "    if tag not in lista_de_tags:\n",
        "      lista_de_tags.append(tag)\n",
        "\n",
        "lista_de_tags"
      ],
      "metadata": {
        "colab": {
          "base_uri": "https://localhost:8080/"
        },
        "id": "RaHUAdIrdW21",
        "outputId": "18c3fdb5-b04f-4557-b537-bc41b3add15c"
      },
      "execution_count": null,
      "outputs": [
        {
          "output_type": "execute_result",
          "data": {
            "text/plain": [
              "['node.js', 'jquery', 'html', 'angular']"
            ]
          },
          "metadata": {},
          "execution_count": 55
        }
      ]
    },
    {
      "cell_type": "markdown",
      "source": [
        "## Get Dummies Multilabel"
      ],
      "metadata": {
        "id": "5-XCYSQ3txEr"
      }
    },
    {
      "cell_type": "code",
      "source": [
        "def nova_coluna(lista_tags, dataframe, nome_tags):\n",
        "    for tag in lista_tags:\n",
        "        coluna = list()\n",
        "        for linha_tag in dataframe[nome_tags]:\n",
        "            if tag in linha_tag:\n",
        "                coluna.append(1)\n",
        "            else:\n",
        "                coluna.append(0)\n",
        "        dataframe[tag] = coluna\n",
        "        \n",
        "nova_coluna(lista_de_tags, perguntas, \"Tags\")\n",
        "perguntas.head()"
      ],
      "metadata": {
        "id": "3woNUkAIlPRc",
        "colab": {
          "base_uri": "https://localhost:8080/",
          "height": 206
        },
        "outputId": "7e4f80f8-d3c6-48c3-8c7a-6f9b7ffe1b8c"
      },
      "execution_count": null,
      "outputs": [
        {
          "output_type": "execute_result",
          "data": {
            "text/plain": [
              "                                           Perguntas           Tags  node.js  \\\n",
              "0  Possuo um projeto Node.js porém preciso criar ...        node.js        1   \n",
              "1  Gostaria de fazer testes unitários no Node.js,...        node.js        1   \n",
              "2  Como inverter a ordem com que o jQuery itera u...         jquery        0   \n",
              "3  Eu tenho uma página onde pretendo utilizar um ...           html        0   \n",
              "4  Como exibir os dados retornados do FireStore e...  html angular         0   \n",
              "\n",
              "   jquery  html  angular  \n",
              "0       0     0        0  \n",
              "1       0     0        0  \n",
              "2       1     0        0  \n",
              "3       0     1        0  \n",
              "4       0     1        1  "
            ],
            "text/html": [
              "\n",
              "  <div id=\"df-11098c97-be2e-437d-91d7-8e1bd9b68777\">\n",
              "    <div class=\"colab-df-container\">\n",
              "      <div>\n",
              "<style scoped>\n",
              "    .dataframe tbody tr th:only-of-type {\n",
              "        vertical-align: middle;\n",
              "    }\n",
              "\n",
              "    .dataframe tbody tr th {\n",
              "        vertical-align: top;\n",
              "    }\n",
              "\n",
              "    .dataframe thead th {\n",
              "        text-align: right;\n",
              "    }\n",
              "</style>\n",
              "<table border=\"1\" class=\"dataframe\">\n",
              "  <thead>\n",
              "    <tr style=\"text-align: right;\">\n",
              "      <th></th>\n",
              "      <th>Perguntas</th>\n",
              "      <th>Tags</th>\n",
              "      <th>node.js</th>\n",
              "      <th>jquery</th>\n",
              "      <th>html</th>\n",
              "      <th>angular</th>\n",
              "    </tr>\n",
              "  </thead>\n",
              "  <tbody>\n",
              "    <tr>\n",
              "      <th>0</th>\n",
              "      <td>Possuo um projeto Node.js porém preciso criar ...</td>\n",
              "      <td>node.js</td>\n",
              "      <td>1</td>\n",
              "      <td>0</td>\n",
              "      <td>0</td>\n",
              "      <td>0</td>\n",
              "    </tr>\n",
              "    <tr>\n",
              "      <th>1</th>\n",
              "      <td>Gostaria de fazer testes unitários no Node.js,...</td>\n",
              "      <td>node.js</td>\n",
              "      <td>1</td>\n",
              "      <td>0</td>\n",
              "      <td>0</td>\n",
              "      <td>0</td>\n",
              "    </tr>\n",
              "    <tr>\n",
              "      <th>2</th>\n",
              "      <td>Como inverter a ordem com que o jQuery itera u...</td>\n",
              "      <td>jquery</td>\n",
              "      <td>0</td>\n",
              "      <td>1</td>\n",
              "      <td>0</td>\n",
              "      <td>0</td>\n",
              "    </tr>\n",
              "    <tr>\n",
              "      <th>3</th>\n",
              "      <td>Eu tenho uma página onde pretendo utilizar um ...</td>\n",
              "      <td>html</td>\n",
              "      <td>0</td>\n",
              "      <td>0</td>\n",
              "      <td>1</td>\n",
              "      <td>0</td>\n",
              "    </tr>\n",
              "    <tr>\n",
              "      <th>4</th>\n",
              "      <td>Como exibir os dados retornados do FireStore e...</td>\n",
              "      <td>html angular</td>\n",
              "      <td>0</td>\n",
              "      <td>0</td>\n",
              "      <td>1</td>\n",
              "      <td>1</td>\n",
              "    </tr>\n",
              "  </tbody>\n",
              "</table>\n",
              "</div>\n",
              "      <button class=\"colab-df-convert\" onclick=\"convertToInteractive('df-11098c97-be2e-437d-91d7-8e1bd9b68777')\"\n",
              "              title=\"Convert this dataframe to an interactive table.\"\n",
              "              style=\"display:none;\">\n",
              "        \n",
              "  <svg xmlns=\"http://www.w3.org/2000/svg\" height=\"24px\"viewBox=\"0 0 24 24\"\n",
              "       width=\"24px\">\n",
              "    <path d=\"M0 0h24v24H0V0z\" fill=\"none\"/>\n",
              "    <path d=\"M18.56 5.44l.94 2.06.94-2.06 2.06-.94-2.06-.94-.94-2.06-.94 2.06-2.06.94zm-11 1L8.5 8.5l.94-2.06 2.06-.94-2.06-.94L8.5 2.5l-.94 2.06-2.06.94zm10 10l.94 2.06.94-2.06 2.06-.94-2.06-.94-.94-2.06-.94 2.06-2.06.94z\"/><path d=\"M17.41 7.96l-1.37-1.37c-.4-.4-.92-.59-1.43-.59-.52 0-1.04.2-1.43.59L10.3 9.45l-7.72 7.72c-.78.78-.78 2.05 0 2.83L4 21.41c.39.39.9.59 1.41.59.51 0 1.02-.2 1.41-.59l7.78-7.78 2.81-2.81c.8-.78.8-2.07 0-2.86zM5.41 20L4 18.59l7.72-7.72 1.47 1.35L5.41 20z\"/>\n",
              "  </svg>\n",
              "      </button>\n",
              "      \n",
              "  <style>\n",
              "    .colab-df-container {\n",
              "      display:flex;\n",
              "      flex-wrap:wrap;\n",
              "      gap: 12px;\n",
              "    }\n",
              "\n",
              "    .colab-df-convert {\n",
              "      background-color: #E8F0FE;\n",
              "      border: none;\n",
              "      border-radius: 50%;\n",
              "      cursor: pointer;\n",
              "      display: none;\n",
              "      fill: #1967D2;\n",
              "      height: 32px;\n",
              "      padding: 0 0 0 0;\n",
              "      width: 32px;\n",
              "    }\n",
              "\n",
              "    .colab-df-convert:hover {\n",
              "      background-color: #E2EBFA;\n",
              "      box-shadow: 0px 1px 2px rgba(60, 64, 67, 0.3), 0px 1px 3px 1px rgba(60, 64, 67, 0.15);\n",
              "      fill: #174EA6;\n",
              "    }\n",
              "\n",
              "    [theme=dark] .colab-df-convert {\n",
              "      background-color: #3B4455;\n",
              "      fill: #D2E3FC;\n",
              "    }\n",
              "\n",
              "    [theme=dark] .colab-df-convert:hover {\n",
              "      background-color: #434B5C;\n",
              "      box-shadow: 0px 1px 3px 1px rgba(0, 0, 0, 0.15);\n",
              "      filter: drop-shadow(0px 1px 2px rgba(0, 0, 0, 0.3));\n",
              "      fill: #FFFFFF;\n",
              "    }\n",
              "  </style>\n",
              "\n",
              "      <script>\n",
              "        const buttonEl =\n",
              "          document.querySelector('#df-11098c97-be2e-437d-91d7-8e1bd9b68777 button.colab-df-convert');\n",
              "        buttonEl.style.display =\n",
              "          google.colab.kernel.accessAllowed ? 'block' : 'none';\n",
              "\n",
              "        async function convertToInteractive(key) {\n",
              "          const element = document.querySelector('#df-11098c97-be2e-437d-91d7-8e1bd9b68777');\n",
              "          const dataTable =\n",
              "            await google.colab.kernel.invokeFunction('convertToInteractive',\n",
              "                                                     [key], {});\n",
              "          if (!dataTable) return;\n",
              "\n",
              "          const docLinkHtml = 'Like what you see? Visit the ' +\n",
              "            '<a target=\"_blank\" href=https://colab.research.google.com/notebooks/data_table.ipynb>data table notebook</a>'\n",
              "            + ' to learn more about interactive tables.';\n",
              "          element.innerHTML = '';\n",
              "          dataTable['output_type'] = 'display_data';\n",
              "          await google.colab.output.renderOutput(dataTable, element);\n",
              "          const docLink = document.createElement('div');\n",
              "          docLink.innerHTML = docLinkHtml;\n",
              "          element.appendChild(docLink);\n",
              "        }\n",
              "      </script>\n",
              "    </div>\n",
              "  </div>\n",
              "  "
            ]
          },
          "metadata": {},
          "execution_count": 56
        }
      ]
    },
    {
      "cell_type": "markdown",
      "source": [
        "## Zip para classificação multilabel\n"
      ],
      "metadata": {
        "id": "eUPC5AS1ttPO"
      }
    },
    {
      "cell_type": "code",
      "source": [
        "lista_zip_tags = list(zip(perguntas[lista_de_tags[0]],\n",
        "                     perguntas[lista_de_tags[1]],\n",
        "                     perguntas[lista_de_tags[2]],\n",
        "                     perguntas[lista_de_tags[3]]))\n"
      ],
      "metadata": {
        "id": "ducKpsgztiT7"
      },
      "execution_count": null,
      "outputs": []
    },
    {
      "cell_type": "code",
      "source": [
        "perguntas['todas_tags'] = lista_zip_tags\n",
        "perguntas.head()"
      ],
      "metadata": {
        "colab": {
          "base_uri": "https://localhost:8080/",
          "height": 206
        },
        "id": "mHVn8nqYs2HE",
        "outputId": "28460d39-52bc-41e8-a4ad-3e0a6964bc63"
      },
      "execution_count": null,
      "outputs": [
        {
          "output_type": "execute_result",
          "data": {
            "text/plain": [
              "                                           Perguntas           Tags  node.js  \\\n",
              "0  Possuo um projeto Node.js porém preciso criar ...        node.js        1   \n",
              "1  Gostaria de fazer testes unitários no Node.js,...        node.js        1   \n",
              "2  Como inverter a ordem com que o jQuery itera u...         jquery        0   \n",
              "3  Eu tenho uma página onde pretendo utilizar um ...           html        0   \n",
              "4  Como exibir os dados retornados do FireStore e...  html angular         0   \n",
              "\n",
              "   jquery  html  angular    todas_tags  \n",
              "0       0     0        0  (1, 0, 0, 0)  \n",
              "1       0     0        0  (1, 0, 0, 0)  \n",
              "2       1     0        0  (0, 1, 0, 0)  \n",
              "3       0     1        0  (0, 0, 1, 0)  \n",
              "4       0     1        1  (0, 0, 1, 1)  "
            ],
            "text/html": [
              "\n",
              "  <div id=\"df-c47b034b-7da7-4a1c-b42e-564f6b9f9b4c\">\n",
              "    <div class=\"colab-df-container\">\n",
              "      <div>\n",
              "<style scoped>\n",
              "    .dataframe tbody tr th:only-of-type {\n",
              "        vertical-align: middle;\n",
              "    }\n",
              "\n",
              "    .dataframe tbody tr th {\n",
              "        vertical-align: top;\n",
              "    }\n",
              "\n",
              "    .dataframe thead th {\n",
              "        text-align: right;\n",
              "    }\n",
              "</style>\n",
              "<table border=\"1\" class=\"dataframe\">\n",
              "  <thead>\n",
              "    <tr style=\"text-align: right;\">\n",
              "      <th></th>\n",
              "      <th>Perguntas</th>\n",
              "      <th>Tags</th>\n",
              "      <th>node.js</th>\n",
              "      <th>jquery</th>\n",
              "      <th>html</th>\n",
              "      <th>angular</th>\n",
              "      <th>todas_tags</th>\n",
              "    </tr>\n",
              "  </thead>\n",
              "  <tbody>\n",
              "    <tr>\n",
              "      <th>0</th>\n",
              "      <td>Possuo um projeto Node.js porém preciso criar ...</td>\n",
              "      <td>node.js</td>\n",
              "      <td>1</td>\n",
              "      <td>0</td>\n",
              "      <td>0</td>\n",
              "      <td>0</td>\n",
              "      <td>(1, 0, 0, 0)</td>\n",
              "    </tr>\n",
              "    <tr>\n",
              "      <th>1</th>\n",
              "      <td>Gostaria de fazer testes unitários no Node.js,...</td>\n",
              "      <td>node.js</td>\n",
              "      <td>1</td>\n",
              "      <td>0</td>\n",
              "      <td>0</td>\n",
              "      <td>0</td>\n",
              "      <td>(1, 0, 0, 0)</td>\n",
              "    </tr>\n",
              "    <tr>\n",
              "      <th>2</th>\n",
              "      <td>Como inverter a ordem com que o jQuery itera u...</td>\n",
              "      <td>jquery</td>\n",
              "      <td>0</td>\n",
              "      <td>1</td>\n",
              "      <td>0</td>\n",
              "      <td>0</td>\n",
              "      <td>(0, 1, 0, 0)</td>\n",
              "    </tr>\n",
              "    <tr>\n",
              "      <th>3</th>\n",
              "      <td>Eu tenho uma página onde pretendo utilizar um ...</td>\n",
              "      <td>html</td>\n",
              "      <td>0</td>\n",
              "      <td>0</td>\n",
              "      <td>1</td>\n",
              "      <td>0</td>\n",
              "      <td>(0, 0, 1, 0)</td>\n",
              "    </tr>\n",
              "    <tr>\n",
              "      <th>4</th>\n",
              "      <td>Como exibir os dados retornados do FireStore e...</td>\n",
              "      <td>html angular</td>\n",
              "      <td>0</td>\n",
              "      <td>0</td>\n",
              "      <td>1</td>\n",
              "      <td>1</td>\n",
              "      <td>(0, 0, 1, 1)</td>\n",
              "    </tr>\n",
              "  </tbody>\n",
              "</table>\n",
              "</div>\n",
              "      <button class=\"colab-df-convert\" onclick=\"convertToInteractive('df-c47b034b-7da7-4a1c-b42e-564f6b9f9b4c')\"\n",
              "              title=\"Convert this dataframe to an interactive table.\"\n",
              "              style=\"display:none;\">\n",
              "        \n",
              "  <svg xmlns=\"http://www.w3.org/2000/svg\" height=\"24px\"viewBox=\"0 0 24 24\"\n",
              "       width=\"24px\">\n",
              "    <path d=\"M0 0h24v24H0V0z\" fill=\"none\"/>\n",
              "    <path d=\"M18.56 5.44l.94 2.06.94-2.06 2.06-.94-2.06-.94-.94-2.06-.94 2.06-2.06.94zm-11 1L8.5 8.5l.94-2.06 2.06-.94-2.06-.94L8.5 2.5l-.94 2.06-2.06.94zm10 10l.94 2.06.94-2.06 2.06-.94-2.06-.94-.94-2.06-.94 2.06-2.06.94z\"/><path d=\"M17.41 7.96l-1.37-1.37c-.4-.4-.92-.59-1.43-.59-.52 0-1.04.2-1.43.59L10.3 9.45l-7.72 7.72c-.78.78-.78 2.05 0 2.83L4 21.41c.39.39.9.59 1.41.59.51 0 1.02-.2 1.41-.59l7.78-7.78 2.81-2.81c.8-.78.8-2.07 0-2.86zM5.41 20L4 18.59l7.72-7.72 1.47 1.35L5.41 20z\"/>\n",
              "  </svg>\n",
              "      </button>\n",
              "      \n",
              "  <style>\n",
              "    .colab-df-container {\n",
              "      display:flex;\n",
              "      flex-wrap:wrap;\n",
              "      gap: 12px;\n",
              "    }\n",
              "\n",
              "    .colab-df-convert {\n",
              "      background-color: #E8F0FE;\n",
              "      border: none;\n",
              "      border-radius: 50%;\n",
              "      cursor: pointer;\n",
              "      display: none;\n",
              "      fill: #1967D2;\n",
              "      height: 32px;\n",
              "      padding: 0 0 0 0;\n",
              "      width: 32px;\n",
              "    }\n",
              "\n",
              "    .colab-df-convert:hover {\n",
              "      background-color: #E2EBFA;\n",
              "      box-shadow: 0px 1px 2px rgba(60, 64, 67, 0.3), 0px 1px 3px 1px rgba(60, 64, 67, 0.15);\n",
              "      fill: #174EA6;\n",
              "    }\n",
              "\n",
              "    [theme=dark] .colab-df-convert {\n",
              "      background-color: #3B4455;\n",
              "      fill: #D2E3FC;\n",
              "    }\n",
              "\n",
              "    [theme=dark] .colab-df-convert:hover {\n",
              "      background-color: #434B5C;\n",
              "      box-shadow: 0px 1px 3px 1px rgba(0, 0, 0, 0.15);\n",
              "      filter: drop-shadow(0px 1px 2px rgba(0, 0, 0, 0.3));\n",
              "      fill: #FFFFFF;\n",
              "    }\n",
              "  </style>\n",
              "\n",
              "      <script>\n",
              "        const buttonEl =\n",
              "          document.querySelector('#df-c47b034b-7da7-4a1c-b42e-564f6b9f9b4c button.colab-df-convert');\n",
              "        buttonEl.style.display =\n",
              "          google.colab.kernel.accessAllowed ? 'block' : 'none';\n",
              "\n",
              "        async function convertToInteractive(key) {\n",
              "          const element = document.querySelector('#df-c47b034b-7da7-4a1c-b42e-564f6b9f9b4c');\n",
              "          const dataTable =\n",
              "            await google.colab.kernel.invokeFunction('convertToInteractive',\n",
              "                                                     [key], {});\n",
              "          if (!dataTable) return;\n",
              "\n",
              "          const docLinkHtml = 'Like what you see? Visit the ' +\n",
              "            '<a target=\"_blank\" href=https://colab.research.google.com/notebooks/data_table.ipynb>data table notebook</a>'\n",
              "            + ' to learn more about interactive tables.';\n",
              "          element.innerHTML = '';\n",
              "          dataTable['output_type'] = 'display_data';\n",
              "          await google.colab.output.renderOutput(dataTable, element);\n",
              "          const docLink = document.createElement('div');\n",
              "          docLink.innerHTML = docLinkHtml;\n",
              "          element.appendChild(docLink);\n",
              "        }\n",
              "      </script>\n",
              "    </div>\n",
              "  </div>\n",
              "  "
            ]
          },
          "metadata": {},
          "execution_count": 58
        }
      ]
    },
    {
      "cell_type": "markdown",
      "source": [
        "## Dados de treino e teste"
      ],
      "metadata": {
        "id": "U2ReX_ukt6jx"
      }
    },
    {
      "cell_type": "code",
      "source": [
        "from sklearn.model_selection import train_test_split"
      ],
      "metadata": {
        "id": "hX3tDBZNt4eP"
      },
      "execution_count": null,
      "outputs": []
    },
    {
      "cell_type": "code",
      "source": [
        "perguntas_train, perguntas_test, tag_train, tag_test = train_test_split(\n",
        "    perguntas.Perguntas,\n",
        "    perguntas.todas_tags,\n",
        "    test_size = 0.2,\n",
        "    random_state = 123\n",
        ")"
      ],
      "metadata": {
        "id": "JAw9iG1erPgK"
      },
      "execution_count": null,
      "outputs": []
    },
    {
      "cell_type": "code",
      "source": [
        "perguntas_train"
      ],
      "metadata": {
        "colab": {
          "base_uri": "https://localhost:8080/"
        },
        "id": "Uf220jo72vMZ",
        "outputId": "de3f490f-fb28-4a51-9039-24f7cde555f4"
      },
      "execution_count": null,
      "outputs": [
        {
          "output_type": "execute_result",
          "data": {
            "text/plain": [
              "1577       array1 = [1,2,3];   array2 = [\"um\",\"dois\",\"...\n",
              "1927    Não sei se fui claro no título, mas quem é da ...\n",
              "3409    Alguém sabe me dizer qual a melhor forma de re...\n",
              "4606    Estou com problemas ao tentar validar campos d...\n",
              "5237    Preciso copiar um valor de dentro de um CODE  ...\n",
              "                              ...                        \n",
              "5218    Tenho um sisteminha, para mudar o layout da pá...\n",
              "4060    Como fazer alto scoll ao carregar a página?  E...\n",
              "1346    Explicação:  Tenho uma CODE  pai que contém du...\n",
              "3454    Estou querendo fazer um sistema onde eu iria t...\n",
              "3582    Galera eu to com um problemão, ja pesquisei ba...\n",
              "Name: Perguntas, Length: 4326, dtype: object"
            ]
          },
          "metadata": {},
          "execution_count": 61
        }
      ]
    },
    {
      "cell_type": "code",
      "source": [
        "print(tag_train)\n",
        "print(type(tag_train))"
      ],
      "metadata": {
        "colab": {
          "base_uri": "https://localhost:8080/"
        },
        "id": "MoS4ER6454wU",
        "outputId": "249f41c7-3860-4999-8ce6-d1918b11dbc4"
      },
      "execution_count": null,
      "outputs": [
        {
          "output_type": "stream",
          "name": "stdout",
          "text": [
            "1577    (0, 1, 0, 0)\n",
            "1927    (0, 1, 0, 0)\n",
            "3409    (0, 0, 1, 0)\n",
            "4606    (0, 0, 1, 0)\n",
            "5237    (0, 1, 0, 0)\n",
            "            ...     \n",
            "5218    (0, 0, 1, 0)\n",
            "4060    (0, 1, 0, 0)\n",
            "1346    (0, 1, 1, 0)\n",
            "3454    (0, 0, 1, 0)\n",
            "3582    (0, 1, 1, 0)\n",
            "Name: todas_tags, Length: 4326, dtype: object\n",
            "<class 'pandas.core.series.Series'>\n"
          ]
        }
      ]
    },
    {
      "cell_type": "code",
      "source": [
        "list(map(lambda x: len(x), [perguntas_train, perguntas_test, tag_train, tag_test]))"
      ],
      "metadata": {
        "colab": {
          "base_uri": "https://localhost:8080/"
        },
        "id": "IfyQj0nNrZ2Z",
        "outputId": "150e8178-6ac8-4b4b-fa69-d9fc623c3bc4"
      },
      "execution_count": null,
      "outputs": [
        {
          "output_type": "execute_result",
          "data": {
            "text/plain": [
              "[4326, 1082, 4326, 1082]"
            ]
          },
          "metadata": {},
          "execution_count": 63
        }
      ]
    },
    {
      "cell_type": "markdown",
      "source": [
        "## TF-IDF"
      ],
      "metadata": {
        "id": "OYR6-U2suO5g"
      }
    },
    {
      "cell_type": "code",
      "source": [
        "from sklearn.feature_extraction.text import TfidfVectorizer"
      ],
      "metadata": {
        "id": "-TELhzHEuSaf"
      },
      "execution_count": null,
      "outputs": []
    },
    {
      "cell_type": "code",
      "source": [
        "vectorizer = TfidfVectorizer(max_features=5000,max_df=0.85)\n",
        "vectorizer"
      ],
      "metadata": {
        "colab": {
          "base_uri": "https://localhost:8080/"
        },
        "id": "VKfWGPDhuhlK",
        "outputId": "01d4ea87-de75-4f43-a399-a519cc6979b7"
      },
      "execution_count": null,
      "outputs": [
        {
          "output_type": "execute_result",
          "data": {
            "text/plain": [
              "TfidfVectorizer(max_df=0.85, max_features=5000)"
            ]
          },
          "metadata": {},
          "execution_count": 65
        }
      ]
    },
    {
      "cell_type": "code",
      "source": [
        "vectorizer.fit(perguntas.Perguntas)"
      ],
      "metadata": {
        "colab": {
          "base_uri": "https://localhost:8080/"
        },
        "id": "qxl-ghG66Bep",
        "outputId": "ce36bef3-c999-49b1-fe50-298577913b9d"
      },
      "execution_count": null,
      "outputs": [
        {
          "output_type": "execute_result",
          "data": {
            "text/plain": [
              "TfidfVectorizer(max_df=0.85, max_features=5000)"
            ]
          },
          "metadata": {},
          "execution_count": 66
        }
      ]
    },
    {
      "cell_type": "code",
      "source": [
        "perguntas_train_tfid = vectorizer.transform(perguntas_train)\n",
        "perguntas_test_tfid = vectorizer.transform(perguntas_test)"
      ],
      "metadata": {
        "id": "I8mkG-ntwddW"
      },
      "execution_count": null,
      "outputs": []
    },
    {
      "cell_type": "code",
      "source": [
        "tags_treino_array = np.asarray(list(tag_train))\n",
        "tags_test_array = np.asarray(list(tag_test))"
      ],
      "metadata": {
        "id": "9AyjjQcY_8cy"
      },
      "execution_count": null,
      "outputs": []
    },
    {
      "cell_type": "code",
      "source": [
        "tags_treino_array"
      ],
      "metadata": {
        "colab": {
          "base_uri": "https://localhost:8080/"
        },
        "id": "zRHy8oek29XC",
        "outputId": "3c43e021-9b46-4677-fd80-2e0fb5dbb96d"
      },
      "execution_count": null,
      "outputs": [
        {
          "output_type": "execute_result",
          "data": {
            "text/plain": [
              "array([[0, 1, 0, 0],\n",
              "       [0, 1, 0, 0],\n",
              "       [0, 0, 1, 0],\n",
              "       ...,\n",
              "       [0, 1, 1, 0],\n",
              "       [0, 0, 1, 0],\n",
              "       [0, 1, 1, 0]])"
            ]
          },
          "metadata": {},
          "execution_count": 69
        }
      ]
    },
    {
      "cell_type": "markdown",
      "source": [
        "## OneVsRest\n"
      ],
      "metadata": {
        "id": "IxEPWFFp2II8"
      }
    },
    {
      "cell_type": "code",
      "source": [
        "from sklearn.multiclass import OneVsRestClassifier\n",
        "from sklearn.linear_model import LogisticRegression\n",
        "\n",
        "RL = LogisticRegression(solver = 'lbfgs')\n",
        "OR = OneVsRestClassifier(RL)\n",
        "OR.fit(perguntas_train_tfid,tags_treino_array)"
      ],
      "metadata": {
        "colab": {
          "base_uri": "https://localhost:8080/"
        },
        "id": "4eaY2MnK2KzI",
        "outputId": "e574ce0b-d05e-41d1-d792-8069c387fd3f"
      },
      "execution_count": null,
      "outputs": [
        {
          "output_type": "execute_result",
          "data": {
            "text/plain": [
              "OneVsRestClassifier(estimator=LogisticRegression())"
            ]
          },
          "metadata": {},
          "execution_count": 70
        }
      ]
    },
    {
      "cell_type": "code",
      "source": [
        "results = OR.score(perguntas_test_tfid,tags_test_array)\n",
        "print(round(results*100,2))"
      ],
      "metadata": {
        "colab": {
          "base_uri": "https://localhost:8080/"
        },
        "id": "TeluTk7x2mtd",
        "outputId": "120ae44d-88ba-4ccb-a7d8-55fdc91201ce"
      },
      "execution_count": null,
      "outputs": [
        {
          "output_type": "stream",
          "name": "stdout",
          "text": [
            "41.68\n"
          ]
        }
      ]
    },
    {
      "cell_type": "code",
      "source": [
        "OR.predict(perguntas_test_tfid)"
      ],
      "metadata": {
        "colab": {
          "base_uri": "https://localhost:8080/"
        },
        "id": "NOBTmxM47EJL",
        "outputId": "0e70be30-a7fe-45cd-aa60-4ad41b8d8471"
      },
      "execution_count": null,
      "outputs": [
        {
          "output_type": "execute_result",
          "data": {
            "text/plain": [
              "array([[0, 1, 0, 0],\n",
              "       [0, 0, 1, 0],\n",
              "       [1, 0, 0, 0],\n",
              "       ...,\n",
              "       [0, 1, 0, 0],\n",
              "       [0, 1, 0, 0],\n",
              "       [0, 0, 0, 0]])"
            ]
          },
          "metadata": {},
          "execution_count": 72
        }
      ]
    },
    {
      "cell_type": "code",
      "source": [
        "tags_test_array"
      ],
      "metadata": {
        "colab": {
          "base_uri": "https://localhost:8080/"
        },
        "id": "f4RsCSYl6_si",
        "outputId": "468f55bf-4ea0-427c-9974-97501ef95316"
      },
      "execution_count": null,
      "outputs": [
        {
          "output_type": "execute_result",
          "data": {
            "text/plain": [
              "array([[0, 1, 0, 0],\n",
              "       [0, 0, 1, 0],\n",
              "       [1, 0, 0, 0],\n",
              "       ...,\n",
              "       [0, 1, 0, 0],\n",
              "       [0, 1, 0, 0],\n",
              "       [0, 0, 0, 1]])"
            ]
          },
          "metadata": {},
          "execution_count": 73
        }
      ]
    },
    {
      "cell_type": "code",
      "source": [
        "perguntas.todas_tags.nunique()"
      ],
      "metadata": {
        "colab": {
          "base_uri": "https://localhost:8080/"
        },
        "id": "xPAB0QYU9z4s",
        "outputId": "a21a6f3b-acd0-4f9a-c5d7-85f2cfd6bb49"
      },
      "execution_count": null,
      "outputs": [
        {
          "output_type": "execute_result",
          "data": {
            "text/plain": [
              "13"
            ]
          },
          "metadata": {},
          "execution_count": 74
        }
      ]
    },
    {
      "cell_type": "markdown",
      "source": [
        "## Metrica Hamming Loss"
      ],
      "metadata": {
        "id": "bH2XJMw1-vyK"
      }
    },
    {
      "cell_type": "code",
      "source": [
        "from sklearn.metrics import hamming_loss"
      ],
      "metadata": {
        "id": "3Re1D1Lp_K7L"
      },
      "execution_count": null,
      "outputs": []
    },
    {
      "cell_type": "code",
      "source": [
        "previsão_or = OR.predict(perguntas_test_tfid)\n",
        "hamming_loss_or = hamming_loss(tags_test_array,previsão_or)\n",
        "print(round(hamming_loss_or,2))"
      ],
      "metadata": {
        "colab": {
          "base_uri": "https://localhost:8080/"
        },
        "id": "es0hLY4S-uUN",
        "outputId": "728dafaa-ea47-4256-f921-23312313b815"
      },
      "execution_count": null,
      "outputs": [
        {
          "output_type": "stream",
          "name": "stdout",
          "text": [
            "0.19\n"
          ]
        }
      ]
    },
    {
      "cell_type": "code",
      "source": [
        "perguntas.corr()"
      ],
      "metadata": {
        "colab": {
          "base_uri": "https://localhost:8080/",
          "height": 175
        },
        "id": "rHffon1IAV1j",
        "outputId": "a1ec862e-2464-4106-99a2-3164e0bbae7c"
      },
      "execution_count": null,
      "outputs": [
        {
          "output_type": "execute_result",
          "data": {
            "text/plain": [
              "          node.js    jquery      html   angular\n",
              "node.js  1.000000 -0.321485 -0.273523 -0.101787\n",
              "jquery  -0.321485  1.000000 -0.253977 -0.366269\n",
              "html    -0.273523 -0.253977  1.000000 -0.286706\n",
              "angular -0.101787 -0.366269 -0.286706  1.000000"
            ],
            "text/html": [
              "\n",
              "  <div id=\"df-83f6ae79-551b-4328-92bc-19402387156e\">\n",
              "    <div class=\"colab-df-container\">\n",
              "      <div>\n",
              "<style scoped>\n",
              "    .dataframe tbody tr th:only-of-type {\n",
              "        vertical-align: middle;\n",
              "    }\n",
              "\n",
              "    .dataframe tbody tr th {\n",
              "        vertical-align: top;\n",
              "    }\n",
              "\n",
              "    .dataframe thead th {\n",
              "        text-align: right;\n",
              "    }\n",
              "</style>\n",
              "<table border=\"1\" class=\"dataframe\">\n",
              "  <thead>\n",
              "    <tr style=\"text-align: right;\">\n",
              "      <th></th>\n",
              "      <th>node.js</th>\n",
              "      <th>jquery</th>\n",
              "      <th>html</th>\n",
              "      <th>angular</th>\n",
              "    </tr>\n",
              "  </thead>\n",
              "  <tbody>\n",
              "    <tr>\n",
              "      <th>node.js</th>\n",
              "      <td>1.000000</td>\n",
              "      <td>-0.321485</td>\n",
              "      <td>-0.273523</td>\n",
              "      <td>-0.101787</td>\n",
              "    </tr>\n",
              "    <tr>\n",
              "      <th>jquery</th>\n",
              "      <td>-0.321485</td>\n",
              "      <td>1.000000</td>\n",
              "      <td>-0.253977</td>\n",
              "      <td>-0.366269</td>\n",
              "    </tr>\n",
              "    <tr>\n",
              "      <th>html</th>\n",
              "      <td>-0.273523</td>\n",
              "      <td>-0.253977</td>\n",
              "      <td>1.000000</td>\n",
              "      <td>-0.286706</td>\n",
              "    </tr>\n",
              "    <tr>\n",
              "      <th>angular</th>\n",
              "      <td>-0.101787</td>\n",
              "      <td>-0.366269</td>\n",
              "      <td>-0.286706</td>\n",
              "      <td>1.000000</td>\n",
              "    </tr>\n",
              "  </tbody>\n",
              "</table>\n",
              "</div>\n",
              "      <button class=\"colab-df-convert\" onclick=\"convertToInteractive('df-83f6ae79-551b-4328-92bc-19402387156e')\"\n",
              "              title=\"Convert this dataframe to an interactive table.\"\n",
              "              style=\"display:none;\">\n",
              "        \n",
              "  <svg xmlns=\"http://www.w3.org/2000/svg\" height=\"24px\"viewBox=\"0 0 24 24\"\n",
              "       width=\"24px\">\n",
              "    <path d=\"M0 0h24v24H0V0z\" fill=\"none\"/>\n",
              "    <path d=\"M18.56 5.44l.94 2.06.94-2.06 2.06-.94-2.06-.94-.94-2.06-.94 2.06-2.06.94zm-11 1L8.5 8.5l.94-2.06 2.06-.94-2.06-.94L8.5 2.5l-.94 2.06-2.06.94zm10 10l.94 2.06.94-2.06 2.06-.94-2.06-.94-.94-2.06-.94 2.06-2.06.94z\"/><path d=\"M17.41 7.96l-1.37-1.37c-.4-.4-.92-.59-1.43-.59-.52 0-1.04.2-1.43.59L10.3 9.45l-7.72 7.72c-.78.78-.78 2.05 0 2.83L4 21.41c.39.39.9.59 1.41.59.51 0 1.02-.2 1.41-.59l7.78-7.78 2.81-2.81c.8-.78.8-2.07 0-2.86zM5.41 20L4 18.59l7.72-7.72 1.47 1.35L5.41 20z\"/>\n",
              "  </svg>\n",
              "      </button>\n",
              "      \n",
              "  <style>\n",
              "    .colab-df-container {\n",
              "      display:flex;\n",
              "      flex-wrap:wrap;\n",
              "      gap: 12px;\n",
              "    }\n",
              "\n",
              "    .colab-df-convert {\n",
              "      background-color: #E8F0FE;\n",
              "      border: none;\n",
              "      border-radius: 50%;\n",
              "      cursor: pointer;\n",
              "      display: none;\n",
              "      fill: #1967D2;\n",
              "      height: 32px;\n",
              "      padding: 0 0 0 0;\n",
              "      width: 32px;\n",
              "    }\n",
              "\n",
              "    .colab-df-convert:hover {\n",
              "      background-color: #E2EBFA;\n",
              "      box-shadow: 0px 1px 2px rgba(60, 64, 67, 0.3), 0px 1px 3px 1px rgba(60, 64, 67, 0.15);\n",
              "      fill: #174EA6;\n",
              "    }\n",
              "\n",
              "    [theme=dark] .colab-df-convert {\n",
              "      background-color: #3B4455;\n",
              "      fill: #D2E3FC;\n",
              "    }\n",
              "\n",
              "    [theme=dark] .colab-df-convert:hover {\n",
              "      background-color: #434B5C;\n",
              "      box-shadow: 0px 1px 3px 1px rgba(0, 0, 0, 0.15);\n",
              "      filter: drop-shadow(0px 1px 2px rgba(0, 0, 0, 0.3));\n",
              "      fill: #FFFFFF;\n",
              "    }\n",
              "  </style>\n",
              "\n",
              "      <script>\n",
              "        const buttonEl =\n",
              "          document.querySelector('#df-83f6ae79-551b-4328-92bc-19402387156e button.colab-df-convert');\n",
              "        buttonEl.style.display =\n",
              "          google.colab.kernel.accessAllowed ? 'block' : 'none';\n",
              "\n",
              "        async function convertToInteractive(key) {\n",
              "          const element = document.querySelector('#df-83f6ae79-551b-4328-92bc-19402387156e');\n",
              "          const dataTable =\n",
              "            await google.colab.kernel.invokeFunction('convertToInteractive',\n",
              "                                                     [key], {});\n",
              "          if (!dataTable) return;\n",
              "\n",
              "          const docLinkHtml = 'Like what you see? Visit the ' +\n",
              "            '<a target=\"_blank\" href=https://colab.research.google.com/notebooks/data_table.ipynb>data table notebook</a>'\n",
              "            + ' to learn more about interactive tables.';\n",
              "          element.innerHTML = '';\n",
              "          dataTable['output_type'] = 'display_data';\n",
              "          await google.colab.output.renderOutput(dataTable, element);\n",
              "          const docLink = document.createElement('div');\n",
              "          docLink.innerHTML = docLinkHtml;\n",
              "          element.appendChild(docLink);\n",
              "        }\n",
              "      </script>\n",
              "    </div>\n",
              "  </div>\n",
              "  "
            ]
          },
          "metadata": {},
          "execution_count": 77
        }
      ]
    },
    {
      "cell_type": "markdown",
      "source": [
        "## Classificação em cadeia"
      ],
      "metadata": {
        "id": "MtKrOwisB8GF"
      }
    },
    {
      "cell_type": "code",
      "source": [
        "from skmultilearn.problem_transform import ClassifierChain"
      ],
      "metadata": {
        "id": "uZwt47DMCzx2"
      },
      "execution_count": null,
      "outputs": []
    },
    {
      "cell_type": "code",
      "source": [
        "RL = LogisticRegression(solver = 'lbfgs')\n",
        "CC = ClassifierChain(RL)\n",
        "CC.fit(perguntas_train_tfid,tags_treino_array)"
      ],
      "metadata": {
        "colab": {
          "base_uri": "https://localhost:8080/"
        },
        "id": "YZZfGGtNC8uF",
        "outputId": "6ff68642-7861-4089-9ca1-9300ecf75d4f"
      },
      "execution_count": null,
      "outputs": [
        {
          "output_type": "execute_result",
          "data": {
            "text/plain": [
              "ClassifierChain(classifier=LogisticRegression(), require_dense=[True, True])"
            ]
          },
          "metadata": {},
          "execution_count": 79
        }
      ]
    },
    {
      "cell_type": "code",
      "source": [
        "results = CC.score(perguntas_test_tfid,tags_test_array)\n",
        "print(round(results*100,2))"
      ],
      "metadata": {
        "colab": {
          "base_uri": "https://localhost:8080/"
        },
        "id": "Ciy6B2gwDXHv",
        "outputId": "1f8af5f4-6f7a-4c5c-987d-fffe8b5ef473"
      },
      "execution_count": null,
      "outputs": [
        {
          "output_type": "stream",
          "name": "stdout",
          "text": [
            "49.82\n"
          ]
        }
      ]
    },
    {
      "cell_type": "code",
      "source": [
        "previsão_cc = CC.predict(perguntas_test_tfid)\n",
        "hamming_loss_cc = hamming_loss(tags_test_array,previsão_cc)\n",
        "print(round(hamming_loss_cc,2))"
      ],
      "metadata": {
        "colab": {
          "base_uri": "https://localhost:8080/"
        },
        "id": "_Rdba38WDdlR",
        "outputId": "feaf7fac-0212-4ea6-9f8e-29d31bd814ec"
      },
      "execution_count": null,
      "outputs": [
        {
          "output_type": "stream",
          "name": "stdout",
          "text": [
            "0.21\n"
          ]
        }
      ]
    },
    {
      "cell_type": "markdown",
      "source": [
        "## Relevância Binaria com skmultilearn"
      ],
      "metadata": {
        "id": "v0mGJ0ZZF07P"
      }
    },
    {
      "cell_type": "code",
      "source": [
        "from skmultilearn.problem_transform import BinaryRelevance"
      ],
      "metadata": {
        "id": "uYZwC_pDF9m2"
      },
      "execution_count": null,
      "outputs": []
    },
    {
      "cell_type": "code",
      "source": [
        "RL = LogisticRegression(solver = 'lbfgs')\n",
        "BR = BinaryRelevance(RL)\n",
        "BR.fit(perguntas_train_tfid,tags_treino_array)\n",
        "\n",
        "results = BR.score(perguntas_test_tfid,tags_test_array)\n",
        "print(round(results*100,2))\n",
        "\n",
        "previsão_br = BR.predict(perguntas_test_tfid)\n",
        "hamming_loss_br = hamming_loss(tags_test_array,previsão_br)\n",
        "print(round(hamming_loss_br,2))"
      ],
      "metadata": {
        "colab": {
          "base_uri": "https://localhost:8080/"
        },
        "id": "05r5OzvgF8FT",
        "outputId": "ef064b35-4bc0-403b-d038-deb7ca869d9a"
      },
      "execution_count": null,
      "outputs": [
        {
          "output_type": "stream",
          "name": "stdout",
          "text": [
            "41.68\n",
            "0.19\n"
          ]
        }
      ]
    },
    {
      "cell_type": "markdown",
      "source": [
        "## ML-KNN"
      ],
      "metadata": {
        "id": "dIHk_p3ZG0i_"
      }
    },
    {
      "cell_type": "code",
      "source": [
        "from skmultilearn.adapt import MLkNN\n",
        "from sklearn.neighbors import NearestNeighbors\n"
      ],
      "metadata": {
        "id": "hKELR4K4Ho--"
      },
      "execution_count": null,
      "outputs": []
    },
    {
      "cell_type": "code",
      "source": [
        "CKNN = MLkNN(k=10)\n",
        "CKNN.fit(perguntas_train_tfid,tags_treino_array)"
      ],
      "metadata": {
        "colab": {
          "base_uri": "https://localhost:8080/"
        },
        "id": "8OmhPTriJpvw",
        "outputId": "7b706cf5-fda5-4152-956f-8d3ed7e70796"
      },
      "execution_count": null,
      "outputs": [
        {
          "output_type": "stream",
          "name": "stderr",
          "text": [
            "/usr/local/lib/python3.7/dist-packages/sklearn/utils/validation.py:72: FutureWarning: Pass n_neighbors=10 as keyword args. From version 1.0 (renaming of 0.25) passing these as positional arguments will result in an error\n",
            "  \"will result in an error\", FutureWarning)\n"
          ]
        },
        {
          "output_type": "execute_result",
          "data": {
            "text/plain": [
              "MLkNN()"
            ]
          },
          "metadata": {},
          "execution_count": 85
        }
      ]
    },
    {
      "cell_type": "code",
      "source": [
        "results = CKNN.score(perguntas_test_tfid,tags_test_array)\n",
        "print(round(results*100,2))\n",
        "\n",
        "previsão_knn= CKNN.predict(perguntas_test_tfid)\n",
        "hamming_loss_knn = hamming_loss(tags_test_array,previsão_knn)\n",
        "print(round(hamming_loss_knn,2))"
      ],
      "metadata": {
        "colab": {
          "base_uri": "https://localhost:8080/"
        },
        "id": "AI2-IwkJKpM1",
        "outputId": "c992738a-70ba-48d8-dd0b-ff77ff771ca8"
      },
      "execution_count": null,
      "outputs": [
        {
          "output_type": "stream",
          "name": "stdout",
          "text": [
            "32.53\n",
            "0.25\n"
          ]
        }
      ]
    },
    {
      "cell_type": "markdown",
      "source": [
        "## Resultado final"
      ],
      "metadata": {
        "id": "YLqZkoECT-y0"
      }
    },
    {
      "cell_type": "code",
      "source": [
        "result = {'perguntas':perguntas_test.values,\n",
        "          'tags_real':list(tag_test),\n",
        "          'BR':list(previsão_br.toarray()),\n",
        "          'CC':list(previsão_cc.toarray()),\n",
        "          'CKNN':list(previsão_knn.toarray())}"
      ],
      "metadata": {
        "id": "D8H9Co-YUBB5"
      },
      "execution_count": null,
      "outputs": []
    },
    {
      "cell_type": "code",
      "source": [
        "pd.DataFrame(result)"
      ],
      "metadata": {
        "colab": {
          "base_uri": "https://localhost:8080/",
          "height": 424
        },
        "id": "bKhg9NZzU0ro",
        "outputId": "f2853aca-d18f-43a0-8e6c-04319b1ce33f"
      },
      "execution_count": null,
      "outputs": [
        {
          "output_type": "execute_result",
          "data": {
            "text/plain": [
              "                                              perguntas     tags_real  \\\n",
              "0     estou com conflito entre o  CODE   e os  CODE ...  (0, 1, 0, 0)   \n",
              "1     Estou fazendo um site que eu sou obrigado a us...  (0, 0, 1, 0)   \n",
              "2     Recentemente fiz um refactor do meu código par...  (1, 0, 0, 0)   \n",
              "3     Eu tenho esse código em CODE  que passo valore...  (0, 1, 1, 0)   \n",
              "4     Olá, em minha função tem o evento CODE  que de...  (0, 1, 1, 0)   \n",
              "...                                                 ...           ...   \n",
              "1077  Estou a desenvolver um website em jQuery. E at...  (0, 1, 0, 0)   \n",
              "1078  Estou usando este plugin - jquery autocomplete...  (0, 1, 0, 0)   \n",
              "1079  Tenho o seguinte jQuery:  CODE   Nisto, quanti...  (0, 1, 0, 0)   \n",
              "1080  Estou usando o SimpleModal Contact Form de Eri...  (0, 1, 0, 0)   \n",
              "1081  Estou tento problemas com o webpack, gostaria ...  (0, 0, 0, 1)   \n",
              "\n",
              "                BR                    CC          CKNN  \n",
              "0     [0, 1, 0, 0]  [0.0, 1.0, 0.0, 0.0]  [0, 0, 0, 0]  \n",
              "1     [0, 0, 1, 0]  [0.0, 0.0, 1.0, 0.0]  [0, 1, 1, 0]  \n",
              "2     [1, 0, 0, 0]  [1.0, 0.0, 0.0, 0.0]  [1, 0, 0, 0]  \n",
              "3     [0, 1, 0, 0]  [0.0, 1.0, 0.0, 0.0]  [0, 1, 1, 0]  \n",
              "4     [0, 1, 0, 0]  [0.0, 1.0, 0.0, 0.0]  [0, 1, 1, 0]  \n",
              "...            ...                   ...           ...  \n",
              "1077  [0, 1, 1, 0]  [0.0, 1.0, 1.0, 0.0]  [0, 0, 1, 0]  \n",
              "1078  [0, 1, 0, 0]  [0.0, 1.0, 0.0, 0.0]  [0, 1, 0, 0]  \n",
              "1079  [0, 1, 0, 0]  [0.0, 1.0, 0.0, 0.0]  [0, 1, 0, 0]  \n",
              "1080  [0, 1, 0, 0]  [0.0, 1.0, 0.0, 0.0]  [0, 1, 0, 0]  \n",
              "1081  [0, 0, 0, 0]  [0.0, 0.0, 1.0, 0.0]  [0, 0, 1, 0]  \n",
              "\n",
              "[1082 rows x 5 columns]"
            ],
            "text/html": [
              "\n",
              "  <div id=\"df-e13b4e2f-35d1-489a-bee1-0faebf24e46a\">\n",
              "    <div class=\"colab-df-container\">\n",
              "      <div>\n",
              "<style scoped>\n",
              "    .dataframe tbody tr th:only-of-type {\n",
              "        vertical-align: middle;\n",
              "    }\n",
              "\n",
              "    .dataframe tbody tr th {\n",
              "        vertical-align: top;\n",
              "    }\n",
              "\n",
              "    .dataframe thead th {\n",
              "        text-align: right;\n",
              "    }\n",
              "</style>\n",
              "<table border=\"1\" class=\"dataframe\">\n",
              "  <thead>\n",
              "    <tr style=\"text-align: right;\">\n",
              "      <th></th>\n",
              "      <th>perguntas</th>\n",
              "      <th>tags_real</th>\n",
              "      <th>BR</th>\n",
              "      <th>CC</th>\n",
              "      <th>CKNN</th>\n",
              "    </tr>\n",
              "  </thead>\n",
              "  <tbody>\n",
              "    <tr>\n",
              "      <th>0</th>\n",
              "      <td>estou com conflito entre o  CODE   e os  CODE ...</td>\n",
              "      <td>(0, 1, 0, 0)</td>\n",
              "      <td>[0, 1, 0, 0]</td>\n",
              "      <td>[0.0, 1.0, 0.0, 0.0]</td>\n",
              "      <td>[0, 0, 0, 0]</td>\n",
              "    </tr>\n",
              "    <tr>\n",
              "      <th>1</th>\n",
              "      <td>Estou fazendo um site que eu sou obrigado a us...</td>\n",
              "      <td>(0, 0, 1, 0)</td>\n",
              "      <td>[0, 0, 1, 0]</td>\n",
              "      <td>[0.0, 0.0, 1.0, 0.0]</td>\n",
              "      <td>[0, 1, 1, 0]</td>\n",
              "    </tr>\n",
              "    <tr>\n",
              "      <th>2</th>\n",
              "      <td>Recentemente fiz um refactor do meu código par...</td>\n",
              "      <td>(1, 0, 0, 0)</td>\n",
              "      <td>[1, 0, 0, 0]</td>\n",
              "      <td>[1.0, 0.0, 0.0, 0.0]</td>\n",
              "      <td>[1, 0, 0, 0]</td>\n",
              "    </tr>\n",
              "    <tr>\n",
              "      <th>3</th>\n",
              "      <td>Eu tenho esse código em CODE  que passo valore...</td>\n",
              "      <td>(0, 1, 1, 0)</td>\n",
              "      <td>[0, 1, 0, 0]</td>\n",
              "      <td>[0.0, 1.0, 0.0, 0.0]</td>\n",
              "      <td>[0, 1, 1, 0]</td>\n",
              "    </tr>\n",
              "    <tr>\n",
              "      <th>4</th>\n",
              "      <td>Olá, em minha função tem o evento CODE  que de...</td>\n",
              "      <td>(0, 1, 1, 0)</td>\n",
              "      <td>[0, 1, 0, 0]</td>\n",
              "      <td>[0.0, 1.0, 0.0, 0.0]</td>\n",
              "      <td>[0, 1, 1, 0]</td>\n",
              "    </tr>\n",
              "    <tr>\n",
              "      <th>...</th>\n",
              "      <td>...</td>\n",
              "      <td>...</td>\n",
              "      <td>...</td>\n",
              "      <td>...</td>\n",
              "      <td>...</td>\n",
              "    </tr>\n",
              "    <tr>\n",
              "      <th>1077</th>\n",
              "      <td>Estou a desenvolver um website em jQuery. E at...</td>\n",
              "      <td>(0, 1, 0, 0)</td>\n",
              "      <td>[0, 1, 1, 0]</td>\n",
              "      <td>[0.0, 1.0, 1.0, 0.0]</td>\n",
              "      <td>[0, 0, 1, 0]</td>\n",
              "    </tr>\n",
              "    <tr>\n",
              "      <th>1078</th>\n",
              "      <td>Estou usando este plugin - jquery autocomplete...</td>\n",
              "      <td>(0, 1, 0, 0)</td>\n",
              "      <td>[0, 1, 0, 0]</td>\n",
              "      <td>[0.0, 1.0, 0.0, 0.0]</td>\n",
              "      <td>[0, 1, 0, 0]</td>\n",
              "    </tr>\n",
              "    <tr>\n",
              "      <th>1079</th>\n",
              "      <td>Tenho o seguinte jQuery:  CODE   Nisto, quanti...</td>\n",
              "      <td>(0, 1, 0, 0)</td>\n",
              "      <td>[0, 1, 0, 0]</td>\n",
              "      <td>[0.0, 1.0, 0.0, 0.0]</td>\n",
              "      <td>[0, 1, 0, 0]</td>\n",
              "    </tr>\n",
              "    <tr>\n",
              "      <th>1080</th>\n",
              "      <td>Estou usando o SimpleModal Contact Form de Eri...</td>\n",
              "      <td>(0, 1, 0, 0)</td>\n",
              "      <td>[0, 1, 0, 0]</td>\n",
              "      <td>[0.0, 1.0, 0.0, 0.0]</td>\n",
              "      <td>[0, 1, 0, 0]</td>\n",
              "    </tr>\n",
              "    <tr>\n",
              "      <th>1081</th>\n",
              "      <td>Estou tento problemas com o webpack, gostaria ...</td>\n",
              "      <td>(0, 0, 0, 1)</td>\n",
              "      <td>[0, 0, 0, 0]</td>\n",
              "      <td>[0.0, 0.0, 1.0, 0.0]</td>\n",
              "      <td>[0, 0, 1, 0]</td>\n",
              "    </tr>\n",
              "  </tbody>\n",
              "</table>\n",
              "<p>1082 rows × 5 columns</p>\n",
              "</div>\n",
              "      <button class=\"colab-df-convert\" onclick=\"convertToInteractive('df-e13b4e2f-35d1-489a-bee1-0faebf24e46a')\"\n",
              "              title=\"Convert this dataframe to an interactive table.\"\n",
              "              style=\"display:none;\">\n",
              "        \n",
              "  <svg xmlns=\"http://www.w3.org/2000/svg\" height=\"24px\"viewBox=\"0 0 24 24\"\n",
              "       width=\"24px\">\n",
              "    <path d=\"M0 0h24v24H0V0z\" fill=\"none\"/>\n",
              "    <path d=\"M18.56 5.44l.94 2.06.94-2.06 2.06-.94-2.06-.94-.94-2.06-.94 2.06-2.06.94zm-11 1L8.5 8.5l.94-2.06 2.06-.94-2.06-.94L8.5 2.5l-.94 2.06-2.06.94zm10 10l.94 2.06.94-2.06 2.06-.94-2.06-.94-.94-2.06-.94 2.06-2.06.94z\"/><path d=\"M17.41 7.96l-1.37-1.37c-.4-.4-.92-.59-1.43-.59-.52 0-1.04.2-1.43.59L10.3 9.45l-7.72 7.72c-.78.78-.78 2.05 0 2.83L4 21.41c.39.39.9.59 1.41.59.51 0 1.02-.2 1.41-.59l7.78-7.78 2.81-2.81c.8-.78.8-2.07 0-2.86zM5.41 20L4 18.59l7.72-7.72 1.47 1.35L5.41 20z\"/>\n",
              "  </svg>\n",
              "      </button>\n",
              "      \n",
              "  <style>\n",
              "    .colab-df-container {\n",
              "      display:flex;\n",
              "      flex-wrap:wrap;\n",
              "      gap: 12px;\n",
              "    }\n",
              "\n",
              "    .colab-df-convert {\n",
              "      background-color: #E8F0FE;\n",
              "      border: none;\n",
              "      border-radius: 50%;\n",
              "      cursor: pointer;\n",
              "      display: none;\n",
              "      fill: #1967D2;\n",
              "      height: 32px;\n",
              "      padding: 0 0 0 0;\n",
              "      width: 32px;\n",
              "    }\n",
              "\n",
              "    .colab-df-convert:hover {\n",
              "      background-color: #E2EBFA;\n",
              "      box-shadow: 0px 1px 2px rgba(60, 64, 67, 0.3), 0px 1px 3px 1px rgba(60, 64, 67, 0.15);\n",
              "      fill: #174EA6;\n",
              "    }\n",
              "\n",
              "    [theme=dark] .colab-df-convert {\n",
              "      background-color: #3B4455;\n",
              "      fill: #D2E3FC;\n",
              "    }\n",
              "\n",
              "    [theme=dark] .colab-df-convert:hover {\n",
              "      background-color: #434B5C;\n",
              "      box-shadow: 0px 1px 3px 1px rgba(0, 0, 0, 0.15);\n",
              "      filter: drop-shadow(0px 1px 2px rgba(0, 0, 0, 0.3));\n",
              "      fill: #FFFFFF;\n",
              "    }\n",
              "  </style>\n",
              "\n",
              "      <script>\n",
              "        const buttonEl =\n",
              "          document.querySelector('#df-e13b4e2f-35d1-489a-bee1-0faebf24e46a button.colab-df-convert');\n",
              "        buttonEl.style.display =\n",
              "          google.colab.kernel.accessAllowed ? 'block' : 'none';\n",
              "\n",
              "        async function convertToInteractive(key) {\n",
              "          const element = document.querySelector('#df-e13b4e2f-35d1-489a-bee1-0faebf24e46a');\n",
              "          const dataTable =\n",
              "            await google.colab.kernel.invokeFunction('convertToInteractive',\n",
              "                                                     [key], {});\n",
              "          if (!dataTable) return;\n",
              "\n",
              "          const docLinkHtml = 'Like what you see? Visit the ' +\n",
              "            '<a target=\"_blank\" href=https://colab.research.google.com/notebooks/data_table.ipynb>data table notebook</a>'\n",
              "            + ' to learn more about interactive tables.';\n",
              "          element.innerHTML = '';\n",
              "          dataTable['output_type'] = 'display_data';\n",
              "          await google.colab.output.renderOutput(dataTable, element);\n",
              "          const docLink = document.createElement('div');\n",
              "          docLink.innerHTML = docLinkHtml;\n",
              "          element.appendChild(docLink);\n",
              "        }\n",
              "      </script>\n",
              "    </div>\n",
              "  </div>\n",
              "  "
            ]
          },
          "metadata": {},
          "execution_count": 99
        }
      ]
    }
  ],
  "metadata": {
    "colab": {
      "collapsed_sections": [],
      "name": "Classificação multilabel de textos: múltiplos contextos em NLP.ipynb",
      "provenance": [],
      "mount_file_id": "1ImOMgSxaLzrEmP6KxkPb9BG0Crgw8PqX",
      "authorship_tag": "ABX9TyM/sVacynIN5I6ftrHw28Km",
      "include_colab_link": true
    },
    "kernelspec": {
      "display_name": "Python 3",
      "name": "python3"
    },
    "language_info": {
      "name": "python"
    }
  },
  "nbformat": 4,
  "nbformat_minor": 0
}